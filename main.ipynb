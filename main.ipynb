{
 "cells": [
  {
   "cell_type": "code",
   "execution_count": 32,
   "metadata": {},
   "outputs": [],
   "source": [
    "import Quartz\n",
    "import Quartz.CoreGraphics as CG\n",
    "import PIL.Image as Image\n",
    "import numpy as np\n",
    "from skimage import io\n",
    "import cv2"
   ]
  },
  {
   "cell_type": "code",
   "execution_count": 33,
   "metadata": {},
   "outputs": [],
   "source": [
    "def take_new_screenshot():\n",
    "    windows = Quartz.CGWindowListCopyWindowInfo(Quartz.kCGWindowListOptionOnScreenOnly, Quartz.kCGNullWindowID)\n",
    "    app_window = None\n",
    "\n",
    "    for window in windows:\n",
    "        if window.get(\"kCGWindowOwnerName\", \"\") == \"scrcpy\":\n",
    "            app_window = window\n",
    "            break\n",
    "\n",
    "    if app_window is None:\n",
    "        print(\"Окно приложения не найдено\")\n",
    "        print('Доступные OwnerName: ', [window['kCGWindowOwnerName'] for window in windows])\n",
    "        print('Замените scrcpy в коде выше на нужное приложение')\n",
    "        raise SystemExit(\"Exit\")\n",
    "\n",
    "    # Получить координаты и размеры окна приложения\n",
    "    bounds = app_window[\"kCGWindowBounds\"]\n",
    "    x, y, width, height = bounds[\"X\"], bounds[\"Y\"], bounds[\"Width\"], bounds[\"Height\"]\n",
    "\n",
    "    # Создать контекст изображения\n",
    "    main_screen = CG.CGMainDisplayID()\n",
    "    image_ref = CG.CGWindowListCreateImage(CG.CGRectMake(x, y, width, height), CG.kCGWindowListOptionIncludingWindow, app_window[\"kCGWindowNumber\"], CG.kCGWindowImageBoundsIgnoreFraming)\n",
    "\n",
    "    width = CG.CGImageGetWidth(image_ref)\n",
    "    height = CG.CGImageGetHeight(image_ref)\n",
    "    bytesperrow = CG.CGImageGetBytesPerRow(image_ref)\n",
    "\n",
    "    pixeldata = CG.CGDataProviderCopyData(CG.CGImageGetDataProvider(image_ref))\n",
    "    image = np.frombuffer(pixeldata, dtype=np.uint8)\n",
    "    image = image.reshape((height, bytesperrow//4, 4))\n",
    "    image = image[:,:width,:]\n",
    "\n",
    "    tmp = cv2.cvtColor(image, cv2.COLOR_BGR2RGB)\n",
    "\n",
    "    im = Image.fromarray(tmp, mode=\"RGB\")\n",
    "    im.save(\"screenshot.png\")"
   ]
  },
  {
   "cell_type": "code",
   "execution_count": 34,
   "metadata": {},
   "outputs": [],
   "source": [
    "def parse_figures():\n",
    "    filename = 'screenshot.png'\n",
    "    image = io.imread(filename)\n",
    "\n",
    "    cv2.imshow(\"Image\", cv2.cvtColor(image, cv2.COLOR_BGR2RGB))\n",
    "    cv2.waitKey(0)\n",
    "\n",
    "\n",
    "    tmp = cv2.cvtColor(image, cv2.COLOR_BGR2HSV)\n",
    "\n",
    "\n",
    "    red1 = cv2.inRange(tmp, (0,50,20), (5,255,255))\n",
    "    red2 = cv2.inRange(tmp, (175,50,20), (180,255,255))\n",
    "    blue_mask = cv2.inRange(tmp, (110, 100, 100), (130, 255, 255))\n",
    "    green_mask = cv2.inRange(tmp, (36,25,25), (86, 255,255))\n",
    "\n",
    "    combined_mask = cv2.bitwise_or(red1, red2)\n",
    "    combined_mask = cv2.bitwise_or(combined_mask, cv2.bitwise_or(blue_mask, green_mask))\n",
    "\n",
    "    tmp = cv2.bitwise_and(tmp, tmp, mask=combined_mask)\n",
    "\n",
    "    cv2.imshow(\"Image\", tmp)\n",
    "    cv2.waitKey(0)\n",
    "    cv2.imshow(\"Image\", image)\n",
    "    cv2.waitKey(0)"
   ]
  },
  {
   "cell_type": "code",
   "execution_count": 35,
   "metadata": {},
   "outputs": [
    {
     "ename": "KeyboardInterrupt",
     "evalue": "",
     "output_type": "error",
     "traceback": [
      "\u001b[0;31m---------------------------------------------------------------------------\u001b[0m",
      "\u001b[0;31mKeyboardInterrupt\u001b[0m                         Traceback (most recent call last)",
      "Cell \u001b[0;32mIn[35], line 3\u001b[0m\n\u001b[1;32m      1\u001b[0m \u001b[39mwhile\u001b[39;00m \u001b[39mTrue\u001b[39;00m:\n\u001b[1;32m      2\u001b[0m     take_new_screenshot()\n\u001b[0;32m----> 3\u001b[0m     parse_figures()\n\u001b[1;32m      4\u001b[0m     cv2\u001b[39m.\u001b[39mdestroyAllWindows()\n",
      "Cell \u001b[0;32mIn[34], line 23\u001b[0m, in \u001b[0;36mparse_figures\u001b[0;34m()\u001b[0m\n\u001b[1;32m     20\u001b[0m tmp \u001b[39m=\u001b[39m cv2\u001b[39m.\u001b[39mbitwise_and(tmp, tmp, mask\u001b[39m=\u001b[39mcombined_mask)\n\u001b[1;32m     22\u001b[0m cv2\u001b[39m.\u001b[39mimshow(\u001b[39m\"\u001b[39m\u001b[39mImage\u001b[39m\u001b[39m\"\u001b[39m, tmp)\n\u001b[0;32m---> 23\u001b[0m cv2\u001b[39m.\u001b[39;49mwaitKey(\u001b[39m0\u001b[39;49m)\n\u001b[1;32m     24\u001b[0m cv2\u001b[39m.\u001b[39mimshow(\u001b[39m\"\u001b[39m\u001b[39mImage\u001b[39m\u001b[39m\"\u001b[39m, image)\n\u001b[1;32m     25\u001b[0m cv2\u001b[39m.\u001b[39mwaitKey(\u001b[39m0\u001b[39m)\n",
      "\u001b[0;31mKeyboardInterrupt\u001b[0m: "
     ]
    }
   ],
   "source": [
    "# while True:\n",
    "for i in range(1):\n",
    "    take_new_screenshot()\n",
    "    parse_figures()\n",
    "    cv2.destroyAllWindows()"
   ]
  }
 ],
 "metadata": {
  "kernelspec": {
   "display_name": "Python 3",
   "language": "python",
   "name": "python3"
  },
  "language_info": {
   "codemirror_mode": {
    "name": "ipython",
    "version": 3
   },
   "file_extension": ".py",
   "mimetype": "text/x-python",
   "name": "python",
   "nbconvert_exporter": "python",
   "pygments_lexer": "ipython3",
   "version": "3.8.9"
  },
  "orig_nbformat": 4
 },
 "nbformat": 4,
 "nbformat_minor": 2
}
